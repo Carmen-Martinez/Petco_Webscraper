{
 "cells": [
  {
   "cell_type": "code",
   "execution_count": 8,
   "metadata": {},
   "outputs": [],
   "source": [
    "from selenium import webdriver\n",
    "from selenium.webdriver.common.keys import Keys\n",
    "from selenium.webdriver.common.by import By\n",
    "from selenium.webdriver.support.ui import WebDriverWait\n",
    "from selenium.webdriver.support import expected_conditions as EC\n",
    "from selenium.common.exceptions import TimeoutException\n",
    "from selenium.common.exceptions import NoSuchElementException\n",
    "\n",
    "import time\n",
    "import pandas as pd\n"
   ]
  },
  {
   "cell_type": "code",
   "execution_count": 2,
   "metadata": {},
   "outputs": [],
   "source": [
    "# getting started and connected\n",
    "\n",
    "PATH = \"C:\\Program Files (x86)\\web_driver\\chromedriver.exe\"\n",
    "driver = webdriver.Chrome(PATH)\n",
    "\n",
    "driver.get('https://www.petco.com/shop/en/petcostore/category/dog/dog-food/wet-dog-food')"
   ]
  },
  {
   "cell_type": "code",
   "execution_count": 3,
   "metadata": {},
   "outputs": [],
   "source": [
    "# closes pop-up\n",
    "\n",
    "popup_close = WebDriverWait(driver, 13).until(\n",
    "    EC.presence_of_element_located((By.XPATH, \"/html/body/div[14]/div[3]/div/div/div/div[2]/form/div[4]/div[3]/button\"))\n",
    "    )\n",
    "popup_close.click()"
   ]
  },
  {
   "cell_type": "code",
   "execution_count": 5,
   "metadata": {},
   "outputs": [],
   "source": [
    "prodLinks=[]\n",
    "page_count = 1\n",
    "while True:\n",
    "    page_count += 1\n",
    "    \n",
    "    # extract links\n",
    "    food1 = driver.find_elements_by_class_name(\"product-name\")\n",
    "    for tags in food1:\n",
    "        food2 = tags.find_elements_by_tag_name(\"a\")\n",
    "        for link in food2:\n",
    "            prodLinks.append(link.get_attribute(\"href\"))\n",
    "    # go through each page\n",
    "    try:\n",
    "        time.sleep(7)\n",
    "        driver.find_element_by_link_text(str(page_count)).click()\n",
    "        time.sleep(7)\n",
    "        driver.find_element_by_link_text(str(page_count)).click()\n",
    "    # stop if no more pages available\n",
    "    except NoSuchElementException:\n",
    "        break\n"
   ]
  },
  {
   "cell_type": "code",
   "execution_count": 6,
   "metadata": {
    "scrolled": false
   },
   "outputs": [
    {
     "data": {
      "text/plain": [
       "708"
      ]
     },
     "execution_count": 6,
     "metadata": {},
     "output_type": "execute_result"
    }
   ],
   "source": [
    "# total links scraped\n",
    "len(prodLinks)"
   ]
  },
  {
   "cell_type": "code",
   "execution_count": 7,
   "metadata": {},
   "outputs": [
    {
     "data": {
      "text/plain": [
       "['https://www.petco.com/shop/en/petcostore/product/wet-noses-wag-soup-turkey-and-pumpkin-wet-dog-food',\n",
       " 'https://www.petco.com/shop/en/petcostore/product/blue-buffalo-baby-blue-natural-chicken-and-vegetable-recipe-wet-puppy-food',\n",
       " 'https://www.petco.com/shop/en/petcostore/product/merrick-slow-cooked-bbq-texas-style-beef-recipe-wet-dog-food',\n",
       " 'https://www.petco.com/shop/en/petcostore/product/blue-buffalo-homestyle-recipe-chicken-dinner-with-garden-vegetables-senior-canned-dog-food',\n",
       " 'https://www.petco.com/shop/en/petcostore/product/hills-science-diet-adult-perfect-weight-hearty-vegetable-and-chicken-stew-canned-dog-food',\n",
       " 'https://www.petco.com/shop/en/petcostore/product/merrick-slow-cooked-bbq-memphis-style-chicken-recipe-wet-dog-food']"
      ]
     },
     "execution_count": 7,
     "metadata": {},
     "output_type": "execute_result"
    }
   ],
   "source": [
    "# preview of some of the links in a list\n",
    "prodLinks[:6]"
   ]
  }
 ],
 "metadata": {
  "kernelspec": {
   "display_name": "Python 3",
   "language": "python",
   "name": "python3"
  },
  "language_info": {
   "codemirror_mode": {
    "name": "ipython",
    "version": 3
   },
   "file_extension": ".py",
   "mimetype": "text/x-python",
   "name": "python",
   "nbconvert_exporter": "python",
   "pygments_lexer": "ipython3",
   "version": "3.8.5"
  }
 },
 "nbformat": 4,
 "nbformat_minor": 4
}
