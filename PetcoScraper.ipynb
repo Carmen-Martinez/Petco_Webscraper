{
 "cells": [
  {
   "cell_type": "code",
   "execution_count": 2,
   "metadata": {},
   "outputs": [],
   "source": [
    "from selenium import webdriver\n",
    "from selenium.webdriver.common.keys import Keys\n",
    "from selenium.webdriver.common.by import By\n",
    "from selenium.webdriver.support.ui import WebDriverWait\n",
    "from selenium.webdriver.support import expected_conditions as EC\n",
    "from selenium.common.exceptions import TimeoutException\n",
    "from selenium.common.exceptions import NoSuchElementException\n",
    "\n",
    "import time\n",
    "import pandas as pd\n"
   ]
  },
  {
   "cell_type": "markdown",
   "metadata": {},
   "source": [
    "## Getting started and connected"
   ]
  },
  {
   "cell_type": "code",
   "execution_count": 3,
   "metadata": {},
   "outputs": [],
   "source": [
    "PATH = \"C:\\Program Files (x86)\\web_driver\\chromedriver.exe\"\n",
    "driver = webdriver.Chrome(PATH)\n",
    "\n",
    "driver.get('https://www.petco.com/shop/en/petcostore/category/dog/dog-food/wet-dog-food')"
   ]
  },
  {
   "cell_type": "markdown",
   "metadata": {},
   "source": [
    "## Closes pop-up (remove if not necessary)"
   ]
  },
  {
   "cell_type": "code",
   "execution_count": 4,
   "metadata": {},
   "outputs": [],
   "source": [
    "popup_close = WebDriverWait(driver, 13).until(\n",
    "    EC.presence_of_element_located((By.XPATH, \"/html/body/div[14]/div[3]/div/div/div/div[2]/form/div[4]/div[3]/button\"))\n",
    "    )\n",
    "popup_close.click()"
   ]
  },
  {
   "cell_type": "markdown",
   "metadata": {},
   "source": [
    "## Extracts Links and Paginates"
   ]
  },
  {
   "cell_type": "code",
   "execution_count": 5,
   "metadata": {},
   "outputs": [],
   "source": [
    "prodLinks=[]\n",
    "page_count = 1\n",
    "while True:\n",
    "    page_count += 1\n",
    "    \n",
    "    # extract links\n",
    "    food1 = driver.find_elements_by_class_name(\"product-name\")\n",
    "    for tags in food1:\n",
    "        food2 = tags.find_elements_by_tag_name(\"a\")\n",
    "        for link in food2:\n",
    "            prodLinks.append(link.get_attribute(\"href\"))\n",
    "    # go through each page\n",
    "    try:\n",
    "        time.sleep(7)\n",
    "        driver.find_element_by_link_text(str(page_count)).click()\n",
    "        # another is added to keep the page \n",
    "        time.sleep(7)\n",
    "        driver.find_element_by_link_text(str(page_count)).click()\n",
    "    # stop if no more pages available\n",
    "    except NoSuchElementException:\n",
    "        break\n"
   ]
  },
  {
   "cell_type": "code",
   "execution_count": 6,
   "metadata": {
    "scrolled": false
   },
   "outputs": [
    {
     "data": {
      "text/plain": [
       "708"
      ]
     },
     "execution_count": 6,
     "metadata": {},
     "output_type": "execute_result"
    }
   ],
   "source": [
    "# total links scraped\n",
    "len(prodLinks)"
   ]
  },
  {
   "cell_type": "code",
   "execution_count": 7,
   "metadata": {},
   "outputs": [
    {
     "data": {
      "text/plain": [
       "['https://www.petco.com/shop/en/petcostore/product/wet-noses-wag-soup-turkey-and-pumpkin-wet-dog-food',\n",
       " 'https://www.petco.com/shop/en/petcostore/product/merrick-grain-free-wingaling-wet-dog-food',\n",
       " 'https://www.petco.com/shop/en/petcostore/product/merrick-slow-cooked-bbq-texas-style-beef-recipe-wet-dog-food',\n",
       " 'https://www.petco.com/shop/en/petcostore/product/merrick-grain-free-cowboy-cookout-wet-dog-food',\n",
       " 'https://www.petco.com/shop/en/petcostore/product/hills-science-diet-adult-perfect-weight-hearty-vegetable-and-chicken-stew-canned-dog-food',\n",
       " 'https://www.petco.com/shop/en/petcostore/product/merrick-slow-cooked-bbq-memphis-style-chicken-recipe-wet-dog-food']"
      ]
     },
     "execution_count": 7,
     "metadata": {},
     "output_type": "execute_result"
    }
   ],
   "source": [
    "# preview of some of the links in a list\n",
    "prodLinks[:6]"
   ]
  },
  {
   "cell_type": "markdown",
   "metadata": {},
   "source": [
    "## Extracts info from each link"
   ]
  },
  {
   "cell_type": "code",
   "execution_count": null,
   "metadata": {},
   "outputs": [
    {
     "name": "stderr",
     "output_type": "stream",
     "text": [
      " 60%|██████████████████████████████████████████████████▍                                 | 3/5 [00:24<00:16,  8.14s/it]"
     ]
    }
   ],
   "source": [
    "from tqdm import tqdm\n",
    "data = []\n",
    "# this for loop goes through only 5 out of 708 links\n",
    "for i in tqdm(prodLinks[:5]):\n",
    "    driver.get(i)\n",
    "    \n",
    "    name = driver.find_element_by_xpath('//*[@id=\"__next\"]/main/div/div[1]/h1').text\n",
    "    price = driver.find_element_by_xpath('//*[@id=\"__next\"]/main/div/div[3]/form/div[2]/div[1]').text\n",
    "\n",
    "    try:\n",
    "        show_more = WebDriverWait(driver, 17).until(\n",
    "            EC.presence_of_element_located((By.XPATH, '//*[@id=\"__next\"]/main/div/div[7]/ul/li[1]/div[2]/button'))\n",
    "        )\n",
    "        show_more.click()\n",
    "        \n",
    "        \n",
    "        ids = driver.find_element_by_xpath('//*[@id=\"__next\"]/main/div/div[7]/ul/li[1]/div[2]/div/div[1]/div/div/div[2]/ul/li[1]/p').text\n",
    "        brand = driver.find_element_by_xpath('//*[@id=\"__next\"]/main/div/div[7]/ul/li[1]/div[2]/div/div/div/div/div[2]/ul/li[4]/p').text\n",
    "        primary_flavor = driver.find_element_by_xpath('//*[@id=\"__next\"]/main/div/div[7]/ul/li[1]/div[2]/div/div/div/div/div[2]/ul/li[3]/p').text\n",
    "\n",
    "    except NoSuchElementException:\n",
    "        pass\n",
    "    \n",
    "    #collect the data\n",
    "    wet_food = {'ID': ids,\n",
    "                'brand': brand,\n",
    "                'primary_flavor': primary_flavor,\n",
    "                'name': name,\n",
    "                'price': price}\n",
    "    data.append(wet_food)"
   ]
  },
  {
   "cell_type": "code",
   "execution_count": null,
   "metadata": {},
   "outputs": [],
   "source": [
    "data"
   ]
  },
  {
   "cell_type": "code",
   "execution_count": null,
   "metadata": {},
   "outputs": [],
   "source": [
    "petco_df = pd.DataFrame(data)\n",
    "petco_df"
   ]
  },
  {
   "cell_type": "markdown",
   "metadata": {},
   "source": [
    "## Quick Data Cleaning"
   ]
  },
  {
   "cell_type": "code",
   "execution_count": null,
   "metadata": {},
   "outputs": [],
   "source": [
    "petco_df['price'] = petco_df['price'].apply(lambda x: x.split('\\nreg'))\n",
    "petco_df['new_price'] = petco_df['price'].apply(lambda x: x[0])\n",
    "petco_df['reg_price'] = petco_df['price'].apply(lambda x: x[-1])\n",
    "petco_df.drop('price', axis=1, inplace=True)"
   ]
  },
  {
   "cell_type": "code",
   "execution_count": null,
   "metadata": {},
   "outputs": [],
   "source": [
    "petco_df"
   ]
  },
  {
   "cell_type": "code",
   "execution_count": null,
   "metadata": {},
   "outputs": [],
   "source": []
  }
 ],
 "metadata": {
  "kernelspec": {
   "display_name": "Python 3",
   "language": "python",
   "name": "python3"
  },
  "language_info": {
   "codemirror_mode": {
    "name": "ipython",
    "version": 3
   },
   "file_extension": ".py",
   "mimetype": "text/x-python",
   "name": "python",
   "nbconvert_exporter": "python",
   "pygments_lexer": "ipython3",
   "version": "3.8.5"
  }
 },
 "nbformat": 4,
 "nbformat_minor": 4
}
